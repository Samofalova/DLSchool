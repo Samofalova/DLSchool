{
 "cells": [
  {
   "cell_type": "markdown",
   "metadata": {
    "colab_type": "text",
    "id": "j3bbZRkqF3S1"
   },
   "source": [
    "j<p style=\"align: center;\"><img align=center src=\"https://s8.hostingkartinok.com/uploads/images/2018/08/308b49fcfbc619d629fe4604bceb67ac.jpg\" width=500 height=450/></p>\n",
    "\n",
    "<h3 style=\"text-align: center;\"><b>Физтех-Школа Прикладной математики и информатики (ФПМИ) МФТИ</b></h3>\n"
   ]
  },
  {
   "cell_type": "markdown",
   "metadata": {
    "colab_type": "text",
    "id": "ElNwf2J6GDHg"
   },
   "source": [
    "---"
   ]
  },
  {
   "cell_type": "markdown",
   "metadata": {
    "colab_type": "text",
    "id": "9zWJc5rl9kVh"
   },
   "source": [
    "## Домашнее задание 2: библиотека Numpy и линейная алгебра\n"
   ]
  },
  {
   "cell_type": "markdown",
   "metadata": {
    "colab_type": "text",
    "id": "nq2vjOfwWLwF"
   },
   "source": [
    "Импортируем библиотеки:"
   ]
  },
  {
   "cell_type": "code",
   "execution_count": 2,
   "metadata": {
    "colab": {},
    "colab_type": "code",
    "collapsed": true,
    "id": "R0mDEfRJ9kVi"
   },
   "outputs": [],
   "source": [
    "import numpy as np\n",
    "import pandas as pd\n",
    "import matplotlib as pyplot\n",
    "\n",
    "from scipy import ndimage  # спецификатор для работы с изображениями\n",
    "from scipy import misc \n",
    "from PIL import Image\n",
    "\n",
    "%matplotlib inline"
   ]
  },
  {
   "cell_type": "markdown",
   "metadata": {
    "colab_type": "text",
    "id": "8t9loOAc9kVm"
   },
   "source": [
    "*Вопросы для самопроверки:*\n",
    "1. Что такое NumPy?\n",
    "2. Зачем используется и почему работает быстрее?\n",
    "3. Что такое линейная алгебра?\n",
    "4. Как она связана с машинным обучением и глубоким обучением?"
   ]
  },
  {
   "cell_type": "markdown",
   "metadata": {
    "colab_type": "text",
    "id": "ZexBy7Kb9kVm"
   },
   "source": [
    "### Задание 1"
   ]
  },
  {
   "cell_type": "markdown",
   "metadata": {
    "colab_type": "text",
    "id": "QuJhYgJU9kVn"
   },
   "source": [
    "В первой задаче вам предлагается перемножить две квадратные матрицы двумя способами -- без использования пакета numpy и с ним."
   ]
  },
  {
   "cell_type": "code",
   "execution_count": 83,
   "metadata": {
    "colab": {},
    "colab_type": "code",
    "id": "506uaq1E9kVn"
   },
   "outputs": [
    {
     "name": "stdout",
     "output_type": "stream",
     "text": [
      "2\n",
      "2\n",
      "(10, 10)\n",
      "(10, 10)\n",
      "[[ 0.63088785  0.10210146  0.84505604  0.185129    0.41289879  0.29298075\n",
      "   0.46347357  0.82951168  0.00337663  0.82115816]\n",
      " [ 0.49559464  0.71651651  0.47104604  0.79932099  0.04729997  0.66235509\n",
      "   0.46592035  0.09038085  0.10774547  0.04898012]\n",
      " [ 0.58988013  0.35321863  0.17251189  0.03140226  0.92293243  0.68286557\n",
      "   0.80061821  0.87747707  0.55981351  0.60316702]\n",
      " [ 0.99630353  0.01656445  0.12329522  0.56841803  0.12323629  0.82403314\n",
      "   0.2456343   0.34847505  0.27807103  0.79043621]\n",
      " [ 0.55103384  0.67884698  0.95903664  0.99563862  0.38401826  0.37601647\n",
      "   0.26962771  0.85862724  0.68848255  0.92245446]\n",
      " [ 0.17035822  0.03883634  0.36851293  0.64589542  0.05955813  0.99939432\n",
      "   0.49140728  0.57047931  0.82086265  0.61346367]\n",
      " [ 0.09320399  0.23342998  0.20125177  0.0914146   0.74674141  0.30401123\n",
      "   0.79928394  0.30258784  0.10493187  0.62501102]\n",
      " [ 0.71892366  0.21995742  0.15613267  0.48268811  0.99791823  0.8644441\n",
      "   0.61261838  0.19697491  0.55781788  0.73113802]\n",
      " [ 0.4023006   0.58109946  0.29166477  0.56112366  0.04390559  0.65564325\n",
      "   0.81121577  0.09216444  0.31999873  0.2997852 ]\n",
      " [ 0.9859641   0.0830185   0.98545527  0.25906124  0.19199999  0.2586991\n",
      "   0.68561678  0.99509419  0.50801398  0.36496948]]\n",
      "[[ 0.85361271  0.20682812  0.78417615  0.91324456  0.60137595  0.95639121\n",
      "   0.13382339  0.87378514  0.87509774  0.89482971]\n",
      " [ 0.10259325  0.61624178  0.01426935  0.30931563  0.87494704  0.91043009\n",
      "   0.45895521  0.9330797   0.30289089  0.95542448]\n",
      " [ 0.72825251  0.94268168  0.33631487  0.98024387  0.49571092  0.20877505\n",
      "   0.61953258  0.15805348  0.79850493  0.20710661]\n",
      " [ 0.99021176  0.31127642  0.92867698  0.95112183  0.49392345  0.16908131\n",
      "   0.67517171  0.50146382  0.08701309  0.26117164]\n",
      " [ 0.03644438  0.65166403  0.26668119  0.78123653  0.97669366  0.45678615\n",
      "   0.61307171  0.55303497  0.60513831  0.88088867]\n",
      " [ 0.150261    0.09477592  0.45055686  0.05084052  0.5297777   0.19352352\n",
      "   0.45634243  0.50045148  0.42923711  0.79849399]\n",
      " [ 0.850735    0.28777408  0.51536464  0.41785965  0.19970548  0.03020934\n",
      "   0.65157008  0.1254258   0.09364006  0.93673945]\n",
      " [ 0.3311195   0.7987362   0.72792112  0.25341646  0.49403932  0.2297796\n",
      "   0.72213298  0.44235708  0.76598553  0.45688756]\n",
      " [ 0.28947733  0.43283548  0.74744743  0.18969106  0.19874333  0.04096028\n",
      "   0.70691649  0.03678684  0.05979478  0.83041166]\n",
      " [ 0.18006604  0.57819766  0.6246795   0.34894151  0.81942653  0.47061671\n",
      "   0.79022369  0.72026857  0.11033932  0.12779627]]\n"
     ]
    }
   ],
   "source": [
    "# Для генерации матриц используем фукнцию random -- она используется для генерации случайных объектов \n",
    "# функция sample создает случайную выборку. В качестве аргумента ей передается кортеж (i,j), здесь i -- число строк,\n",
    "# j -- число столбцов.\n",
    "a = np.random.sample((10,10))\n",
    "b = np.random.sample((10,10))\n",
    "# выведите размерность (ранг) каждой матрицы с помощью функции ndim.\n",
    "# Используйте функцию shape, что она вывела?\n",
    "# ========\n",
    "print(np.ndim(a))\n",
    "print(np.ndim(b))\n",
    "print(np.shape(a))\n",
    "print(np.shape(b))\n",
    "# ========\n",
    "print(a)\n",
    "print(b)"
   ]
  },
  {
   "cell_type": "code",
   "execution_count": 84,
   "metadata": {
    "colab": {},
    "colab_type": "code",
    "id": "OT01mk-C9kVq"
   },
   "outputs": [
    {
     "data": {
      "text/plain": [
       "array([[ 2.22461215,  2.61667843,  2.55259238,  2.64070012,  2.71348698,\n",
       "         1.74056057,  2.71894615,  2.26454942,  2.41912485,  2.40400828],\n",
       "       [ 2.19865424,  1.61173209,  2.02767111,  2.2219703 ,  2.14960513,\n",
       "         1.57190768,  2.04165649,  2.07218789,  1.53404073,  2.57839194],\n",
       "       [ 2.07506481,  2.70055833,  2.95515113,  2.47625253,  3.22690915,\n",
       "         2.01339913,  3.27426651,  2.68379021,  2.46241812,  3.96034768],\n",
       "       [ 2.1802949 ,  1.59425593,  2.83686152,  2.23417113,  2.43662232,\n",
       "         1.77642423,  2.28557791,  2.43559707,  1.84684389,  2.56911845],\n",
       "       [ 3.17391719,  3.62694567,  3.81559888,  3.70213446,  3.8375379 ,\n",
       "         2.42955891,  4.07007547,  3.26969302,  2.75993314,  3.57332529],\n",
       "       [ 2.16472784,  2.04821875,  2.98936433,  1.96016925,  2.27156004,\n",
       "         1.07330228,  2.99480063,  1.88636417,  1.57608881,  2.76605003],\n",
       "       [ 1.33657614,  1.77523476,  1.66615945,  1.68904774,  2.13771679,\n",
       "         1.15118148,  2.20992336,  1.63015428,  1.28515652,  2.32650922],\n",
       "       [ 2.2737036 ,  2.31172167,  3.05605026,  2.82713428,  3.30285883,\n",
       "         2.05586552,  3.13956311,  2.79575405,  2.15962792,  3.80169016],\n",
       "       [ 2.13844096,  1.60057119,  2.16168589,  1.96201417,  2.07911285,\n",
       "         1.41638787,  2.26443026,  1.94383179,  1.31654957,  2.79039431],\n",
       "       [ 2.99575451,  2.83736426,  3.19951848,  3.0640239 ,  2.63517458,\n",
       "         1.84779162,  3.00409312,  2.26804244,  2.82169893,  3.17443484]])"
      ]
     },
     "execution_count": 84,
     "metadata": {},
     "output_type": "execute_result"
    }
   ],
   "source": [
    "def mult(a,b):\n",
    "    # здесь напишите перемножение матриц без \n",
    "    # использования NumPy и выведите результат \n",
    "    c=np.zeros(((a.shape[0]),(b.shape[1])))\n",
    "    for i in range(a.shape[0]):\n",
    "        for j in range(b.shape[1]):\n",
    "            for k in range(a.shape[1]):\n",
    "                c[i,j] += a[i,k] * b[k,j]\n",
    "    return(c)\n",
    "mult(a,b)"
   ]
  },
  {
   "cell_type": "code",
   "execution_count": 85,
   "metadata": {
    "colab": {},
    "colab_type": "code",
    "id": "AyyDUyqh9kVs"
   },
   "outputs": [
    {
     "name": "stdout",
     "output_type": "stream",
     "text": [
      "[[ 2.22461215  2.61667843  2.55259238  2.64070012  2.71348698  1.74056057\n",
      "   2.71894615  2.26454942  2.41912485  2.40400828]\n",
      " [ 2.19865424  1.61173209  2.02767111  2.2219703   2.14960513  1.57190768\n",
      "   2.04165649  2.07218789  1.53404073  2.57839194]\n",
      " [ 2.07506481  2.70055833  2.95515113  2.47625253  3.22690915  2.01339913\n",
      "   3.27426651  2.68379021  2.46241812  3.96034768]\n",
      " [ 2.1802949   1.59425593  2.83686152  2.23417113  2.43662232  1.77642423\n",
      "   2.28557791  2.43559707  1.84684389  2.56911845]\n",
      " [ 3.17391719  3.62694567  3.81559888  3.70213446  3.8375379   2.42955891\n",
      "   4.07007547  3.26969302  2.75993314  3.57332529]\n",
      " [ 2.16472784  2.04821875  2.98936433  1.96016925  2.27156004  1.07330228\n",
      "   2.99480063  1.88636417  1.57608881  2.76605003]\n",
      " [ 1.33657614  1.77523476  1.66615945  1.68904774  2.13771679  1.15118148\n",
      "   2.20992336  1.63015428  1.28515652  2.32650922]\n",
      " [ 2.2737036   2.31172167  3.05605026  2.82713428  3.30285883  2.05586552\n",
      "   3.13956311  2.79575405  2.15962792  3.80169016]\n",
      " [ 2.13844096  1.60057119  2.16168589  1.96201417  2.07911285  1.41638787\n",
      "   2.26443026  1.94383179  1.31654957  2.79039431]\n",
      " [ 2.99575451  2.83736426  3.19951848  3.0640239   2.63517458  1.84779162\n",
      "   3.00409312  2.26804244  2.82169893  3.17443484]]\n"
     ]
    }
   ],
   "source": [
    "import numpy as np\n",
    "def np_mult(a,b):\n",
    "    # здесь напишите перемножение матриц с\n",
    "    # использованием NumPy и выведите результат\n",
    "    c=np.dot(a,b)\n",
    "    print(c)\n",
    "    pass\n",
    "np_mult(a,b)"
   ]
  },
  {
   "cell_type": "code",
   "execution_count": 86,
   "metadata": {
    "colab": {},
    "colab_type": "code",
    "id": "bL4XGWIh9kVu"
   },
   "outputs": [
    {
     "name": "stdout",
     "output_type": "stream",
     "text": [
      "CPU times: user 1.06 ms, sys: 0 ns, total: 1.06 ms\n",
      "Wall time: 1.07 ms\n"
     ]
    },
    {
     "data": {
      "text/plain": [
       "array([[ 2.22461215,  2.61667843,  2.55259238,  2.64070012,  2.71348698,\n",
       "         1.74056057,  2.71894615,  2.26454942,  2.41912485,  2.40400828],\n",
       "       [ 2.19865424,  1.61173209,  2.02767111,  2.2219703 ,  2.14960513,\n",
       "         1.57190768,  2.04165649,  2.07218789,  1.53404073,  2.57839194],\n",
       "       [ 2.07506481,  2.70055833,  2.95515113,  2.47625253,  3.22690915,\n",
       "         2.01339913,  3.27426651,  2.68379021,  2.46241812,  3.96034768],\n",
       "       [ 2.1802949 ,  1.59425593,  2.83686152,  2.23417113,  2.43662232,\n",
       "         1.77642423,  2.28557791,  2.43559707,  1.84684389,  2.56911845],\n",
       "       [ 3.17391719,  3.62694567,  3.81559888,  3.70213446,  3.8375379 ,\n",
       "         2.42955891,  4.07007547,  3.26969302,  2.75993314,  3.57332529],\n",
       "       [ 2.16472784,  2.04821875,  2.98936433,  1.96016925,  2.27156004,\n",
       "         1.07330228,  2.99480063,  1.88636417,  1.57608881,  2.76605003],\n",
       "       [ 1.33657614,  1.77523476,  1.66615945,  1.68904774,  2.13771679,\n",
       "         1.15118148,  2.20992336,  1.63015428,  1.28515652,  2.32650922],\n",
       "       [ 2.2737036 ,  2.31172167,  3.05605026,  2.82713428,  3.30285883,\n",
       "         2.05586552,  3.13956311,  2.79575405,  2.15962792,  3.80169016],\n",
       "       [ 2.13844096,  1.60057119,  2.16168589,  1.96201417,  2.07911285,\n",
       "         1.41638787,  2.26443026,  1.94383179,  1.31654957,  2.79039431],\n",
       "       [ 2.99575451,  2.83736426,  3.19951848,  3.0640239 ,  2.63517458,\n",
       "         1.84779162,  3.00409312,  2.26804244,  2.82169893,  3.17443484]])"
      ]
     },
     "execution_count": 86,
     "metadata": {},
     "output_type": "execute_result"
    }
   ],
   "source": [
    "%%time\n",
    "# засечем время работы функции без NumPy\n",
    "mult(a,b)"
   ]
  },
  {
   "cell_type": "code",
   "execution_count": 87,
   "metadata": {
    "colab": {},
    "colab_type": "code",
    "id": "Ej9y25jB9kVw"
   },
   "outputs": [
    {
     "name": "stdout",
     "output_type": "stream",
     "text": [
      "[[ 2.22461215  2.61667843  2.55259238  2.64070012  2.71348698  1.74056057\n",
      "   2.71894615  2.26454942  2.41912485  2.40400828]\n",
      " [ 2.19865424  1.61173209  2.02767111  2.2219703   2.14960513  1.57190768\n",
      "   2.04165649  2.07218789  1.53404073  2.57839194]\n",
      " [ 2.07506481  2.70055833  2.95515113  2.47625253  3.22690915  2.01339913\n",
      "   3.27426651  2.68379021  2.46241812  3.96034768]\n",
      " [ 2.1802949   1.59425593  2.83686152  2.23417113  2.43662232  1.77642423\n",
      "   2.28557791  2.43559707  1.84684389  2.56911845]\n",
      " [ 3.17391719  3.62694567  3.81559888  3.70213446  3.8375379   2.42955891\n",
      "   4.07007547  3.26969302  2.75993314  3.57332529]\n",
      " [ 2.16472784  2.04821875  2.98936433  1.96016925  2.27156004  1.07330228\n",
      "   2.99480063  1.88636417  1.57608881  2.76605003]\n",
      " [ 1.33657614  1.77523476  1.66615945  1.68904774  2.13771679  1.15118148\n",
      "   2.20992336  1.63015428  1.28515652  2.32650922]\n",
      " [ 2.2737036   2.31172167  3.05605026  2.82713428  3.30285883  2.05586552\n",
      "   3.13956311  2.79575405  2.15962792  3.80169016]\n",
      " [ 2.13844096  1.60057119  2.16168589  1.96201417  2.07911285  1.41638787\n",
      "   2.26443026  1.94383179  1.31654957  2.79039431]\n",
      " [ 2.99575451  2.83736426  3.19951848  3.0640239   2.63517458  1.84779162\n",
      "   3.00409312  2.26804244  2.82169893  3.17443484]]\n",
      "CPU times: user 5.88 ms, sys: 1.41 ms, total: 7.29 ms\n",
      "Wall time: 6.08 ms\n"
     ]
    }
   ],
   "source": [
    "%%time\n",
    "# засечем время работы функции с NumPy\n",
    "np_mult(a,b)"
   ]
  },
  {
   "cell_type": "markdown",
   "metadata": {
    "colab_type": "text",
    "id": "pNEVDEQJ9kVz"
   },
   "source": [
    "### Задание 2"
   ]
  },
  {
   "cell_type": "markdown",
   "metadata": {
    "colab_type": "text",
    "id": "TNG-vLX_9kVz"
   },
   "source": [
    "Напишите функцию, которая по данной последовательности $\\{A_i\\}_{i=1}^n$ строит последовательность $S_n$, где $S_k = \\frac{A_1 + ... + A_k}{k}$.\n",
    "Аналогично -- с помощью библиотеки NumPy и без нее. Сравните скорость, объясните результат."
   ]
  },
  {
   "cell_type": "code",
   "execution_count": 163,
   "metadata": {
    "colab": {},
    "colab_type": "code",
    "id": "VNuFOp519kV0"
   },
   "outputs": [
    {
     "data": {
      "text/plain": [
       "array([ 0.61414094,  0.43096096,  0.46267907, ...,  0.50005438,\n",
       "        0.50005441,  0.50005437])"
      ]
     },
     "execution_count": 163,
     "metadata": {},
     "output_type": "execute_result"
    }
   ],
   "source": [
    "# функция, решающая задачу с помощью NumPy\n",
    "def sec_av(A):\n",
    "    B = np.cumsum(A)\n",
    "    s = len(A) + 1\n",
    "    C = np.arange(1,(len(A) + 1))\n",
    "    return (B / C)\n",
    "    # Ваш код здесь\n",
    "sec_av(A)"
   ]
  },
  {
   "cell_type": "code",
   "execution_count": 164,
   "metadata": {
    "colab": {},
    "colab_type": "code",
    "id": "kgKYKkRR9kV2"
   },
   "outputs": [
    {
     "name": "stdout",
     "output_type": "stream",
     "text": [
      "CPU times: user 159 ms, sys: 141 ms, total: 300 ms\n",
      "Wall time: 340 ms\n",
      "CPU times: user 10.8 s, sys: 1.3 s, total: 12.1 s\n",
      "Wall time: 12.7 s\n"
     ]
    },
    {
     "data": {
      "text/plain": [
       "0.0"
      ]
     },
     "execution_count": 164,
     "metadata": {},
     "output_type": "execute_result"
    }
   ],
   "source": [
    "# функция без NumPy\n",
    "from scipy import stats as sps\n",
    "def stupid_sec_av(A):\n",
    "    S = [0 for i in range(len(A))]\n",
    "    for i in range(len(A)):\n",
    "        if i == 0:\n",
    "            S[0] = A[0]\n",
    "        else:\n",
    "            S[i] = S[i-1] + A[i]\n",
    "        # Ваш код здесь\n",
    "    for i in range(len(A)):\n",
    "        S[i] = S[i]/(i+1)\n",
    "        # Ваш код здесь\n",
    "    return S\n",
    "\n",
    "# зададим некоторую последовательность и проверим ее на ваших функциях. \n",
    "# Первая функция должна работать ~ в 50 раз быстрее\n",
    "A = sps.uniform.rvs(size=10 ** 7) \n",
    "\n",
    "%time S1 = sec_av(A)\n",
    "%time S2 = stupid_sec_av(A)\n",
    "#проверим корректность:\n",
    "np.abs(S1 - S2).sum()"
   ]
  },
  {
   "cell_type": "markdown",
   "metadata": {
    "colab_type": "text",
    "id": "hYOmgppl9kV5"
   },
   "source": [
    "### Задание 3"
   ]
  },
  {
   "cell_type": "markdown",
   "metadata": {
    "colab_type": "text",
    "id": "TkrFKdoJ9kV5"
   },
   "source": [
    "Пусть задан некоторый массив $X$. Надо построить новый массив, где все элементы с нечетными индексами требуется заменить на число $a$ (если оно не указано, то на 1). Все четные элементы исходного массива нужно возвести в куб и записать в обратном порядке относительно позиций этих элементов. Массив $X$ при этом должен остаться без изменений. В конце требуется слить массив $X$ с преобразованным $X$ и вывести в обратном порядке."
   ]
  },
  {
   "cell_type": "code",
   "execution_count": 206,
   "metadata": {
    "colab": {},
    "colab_type": "code",
    "id": "MOUotbrS9kV7"
   },
   "outputs": [],
   "source": [
    "# функция, решающая задачу с помощью NumPy\n",
    "def transformation(X, a=1):\n",
    "    C = X.copy()\n",
    "    C[::2] = list(map(lambda x: x ** 3, C[::2]))\n",
    "    C[1::2] = list(map(lambda x: a, C[1::2]))\n",
    "    n=len(C)//2\n",
    "    C[:n:2], C[n+1::2] = C[n+1::2], C[:n:2]\n",
    "    return np.concatenate((X,C))\n",
    "#решение, которое будет работать быстрее с np.array и с list"
   ]
  },
  {
   "cell_type": "code",
   "execution_count": 207,
   "metadata": {
    "colab": {},
    "colab_type": "code",
    "id": "Ut3v_joM9kV9"
   },
   "outputs": [],
   "source": [
    "# функция, решающая задачу  без NumPy\n",
    "def stupid_transformation(X, a=1):\n",
    "    C = X.copy()\n",
    "    for i in range(len(X)):\n",
    "        if i % 2 != 0:\n",
    "            C[i] = a\n",
    "        else:\n",
    "            C[i] = C[i] ** 3\n",
    "    n=(len(C)-1)//2*2\n",
    "    for i in range(n//2):\n",
    "        if i % 2 == 0:\n",
    "            C[i], C[n-i] = C[n-i], C[i]  \n",
    "    return X + C"
   ]
  },
  {
   "cell_type": "code",
   "execution_count": 209,
   "metadata": {
    "colab": {},
    "colab_type": "code",
    "id": "6SezU3-O9kV_"
   },
   "outputs": [
    {
     "name": "stdout",
     "output_type": "stream",
     "text": [
      "CPU times: user 6.08 s, sys: 509 ms, total: 6.59 s\n",
      "Wall time: 6.77 s\n",
      "CPU times: user 7.58 s, sys: 553 ms, total: 8.13 s\n",
      "Wall time: 8.22 s\n"
     ]
    },
    {
     "ename": "ValueError",
     "evalue": "operands could not be broadcast together with shapes (20000000,) (10000000,) ",
     "output_type": "error",
     "traceback": [
      "\u001b[0;31m---------------------------------------------------------------------------\u001b[0m",
      "\u001b[0;31mValueError\u001b[0m                                Traceback (most recent call last)",
      "\u001b[0;32m<ipython-input-209-282167bfbc3e>\u001b[0m in \u001b[0;36m<module>\u001b[0;34m()\u001b[0m\n\u001b[1;32m      5\u001b[0m \u001b[0mget_ipython\u001b[0m\u001b[0;34m(\u001b[0m\u001b[0;34m)\u001b[0m\u001b[0;34m.\u001b[0m\u001b[0mmagic\u001b[0m\u001b[0;34m(\u001b[0m\u001b[0;34m'time S2 = stupid_transformation(X)'\u001b[0m\u001b[0;34m)\u001b[0m\u001b[0;34m\u001b[0m\u001b[0m\n\u001b[1;32m      6\u001b[0m \u001b[0;31m# проверим корректность:\u001b[0m\u001b[0;34m\u001b[0m\u001b[0;34m\u001b[0m\u001b[0m\n\u001b[0;32m----> 7\u001b[0;31m \u001b[0mnp\u001b[0m\u001b[0;34m.\u001b[0m\u001b[0mabs\u001b[0m\u001b[0;34m(\u001b[0m\u001b[0mS1\u001b[0m \u001b[0;34m-\u001b[0m \u001b[0mS2\u001b[0m\u001b[0;34m)\u001b[0m\u001b[0;34m.\u001b[0m\u001b[0msum\u001b[0m\u001b[0;34m(\u001b[0m\u001b[0;34m)\u001b[0m\u001b[0;34m\u001b[0m\u001b[0m\n\u001b[0m",
      "\u001b[0;31mValueError\u001b[0m: operands could not be broadcast together with shapes (20000000,) (10000000,) "
     ]
    }
   ],
   "source": [
    "X = sps.uniform.rvs(size=10 ** 7) \n",
    "# здесь код эффективнее примерно в 20 раз. \n",
    "# если Вы вдруг соберетесь печатать массив без np -- лучше сначала посмотрите на его размер\n",
    "%time S1 = transformation(X)\n",
    "%time S2 = stupid_transformation(X)\n",
    "# проверим корректность:\n",
    "np.abs(S1 - S2).sum()"
   ]
  },
  {
   "cell_type": "markdown",
   "metadata": {
    "colab_type": "text",
    "id": "q7eDK6zZ9kWC"
   },
   "source": [
    "Что вы можете сказать о скорости вычислений в `NumPy`? Ответ обоснуйте.\n",
    "\n",
    "**Ответ:** цикл с обращением по индексам: np медленнее list\n",
    "слайсы: np быстрее list\n",
    "слайсы быстрее цикла по индексам всегда"
   ]
  },
  {
   "cell_type": "markdown",
   "metadata": {
    "colab_type": "text",
    "id": "SLWNN0DA9kWF"
   },
   "source": [
    "### Задание 4"
   ]
  },
  {
   "cell_type": "markdown",
   "metadata": {
    "colab_type": "text",
    "id": "k1tdLLo29kWG"
   },
   "source": [
    "Вам подаются на вход два вектора `a` и `b` в трехмерном пространстве.Заполните их случайными числами. Реализуйте их скалярное произведение с помощью  `NumPy` и без. Засеките время работы, как это показано в заданиях выше."
   ]
  },
  {
   "cell_type": "code",
   "execution_count": 244,
   "metadata": {
    "colab": {},
    "colab_type": "code",
    "id": "116WkBP49kWH"
   },
   "outputs": [
    {
     "name": "stdout",
     "output_type": "stream",
     "text": [
      "[ 0.48247525  0.25771947  0.00323847] [ 0.5158123   0.28522173  0.88204391]\n"
     ]
    }
   ],
   "source": [
    "a = np.random.random(3)\n",
    "b = np.random.random(3)\n",
    "print(a,b)"
   ]
  },
  {
   "cell_type": "code",
   "execution_count": 245,
   "metadata": {
    "colab": {},
    "colab_type": "code",
    "id": "6HKKpgD39kWL"
   },
   "outputs": [
    {
     "data": {
      "text/plain": [
       "0.32523033203884394"
      ]
     },
     "execution_count": 245,
     "metadata": {},
     "output_type": "execute_result"
    }
   ],
   "source": [
    "def stupid_scalar_product(a,b):\n",
    "    c = 0\n",
    "    for i in range(len(a)):\n",
    "        c += a[i] * b[i]\n",
    "    return c\n",
    "stupid_scalar_product(a,b)"
   ]
  },
  {
   "cell_type": "code",
   "execution_count": 246,
   "metadata": {
    "colab": {},
    "colab_type": "code",
    "id": "lta984vp9kWP"
   },
   "outputs": [
    {
     "data": {
      "text/plain": [
       "0.32523033203884394"
      ]
     },
     "execution_count": 246,
     "metadata": {},
     "output_type": "execute_result"
    }
   ],
   "source": [
    "def numpy_scalar_product(a,b):\n",
    "    return np.sum(a*b)\n",
    "numpy_scalar_product(a,b)"
   ]
  },
  {
   "cell_type": "code",
   "execution_count": 247,
   "metadata": {
    "colab": {},
    "colab_type": "code",
    "id": "5QK3Yj5j9kWR"
   },
   "outputs": [
    {
     "name": "stdout",
     "output_type": "stream",
     "text": [
      "CPU times: user 60 µs, sys: 124 µs, total: 184 µs\n",
      "Wall time: 228 µs\n",
      "CPU times: user 89 µs, sys: 86 µs, total: 175 µs\n",
      "Wall time: 185 µs\n"
     ]
    },
    {
     "data": {
      "text/plain": [
       "0.0"
      ]
     },
     "execution_count": 247,
     "metadata": {},
     "output_type": "execute_result"
    }
   ],
   "source": [
    "%time product_1 = stupid_scalar_product(a,b)\n",
    "%time product_2 = numpy_scalar_product(a,b)\n",
    "# проверим корректность:\n",
    "np.abs(product_1 - product_2).sum()"
   ]
  },
  {
   "cell_type": "markdown",
   "metadata": {
    "colab_type": "text",
    "id": "J_7dapMK9kWS"
   },
   "source": [
    "## Бонусная часть (в тесте вопросов по ней не будет)"
   ]
  },
  {
   "cell_type": "markdown",
   "metadata": {
    "colab_type": "text",
    "id": "Ld2wo7J49kWT"
   },
   "source": [
    "Image = 2-D численный массив\n",
    "(или 3-D: CT, MRI, 2D + time; 4-D, …)\n",
    "В текущем задании, image == Numpy array (np.array)"
   ]
  },
  {
   "cell_type": "code",
   "execution_count": 248,
   "metadata": {
    "colab": {},
    "colab_type": "code",
    "collapsed": true,
    "id": "4OvzTYbo9kWT"
   },
   "outputs": [],
   "source": [
    "pic = misc.face() #встроенная в библиотеку функция, которая загружает картинку с енотом"
   ]
  },
  {
   "cell_type": "markdown",
   "metadata": {
    "colab_type": "text",
    "id": "7bfaJn7K9kWW"
   },
   "source": [
    "Выведите тип и размеры для переменной pic. Что лежит внутри?"
   ]
  },
  {
   "cell_type": "code",
   "execution_count": 249,
   "metadata": {
    "colab": {},
    "colab_type": "code",
    "id": "MLlpZY-P9kWW"
   },
   "outputs": [
    {
     "ename": "SyntaxError",
     "evalue": "unexpected EOF while parsing (<ipython-input-249-50b064173985>, line 1)",
     "output_type": "error",
     "traceback": [
      "\u001b[0;36m  File \u001b[0;32m\"<ipython-input-249-50b064173985>\"\u001b[0;36m, line \u001b[0;32m1\u001b[0m\n\u001b[0;31m    print(#тут ваш код)\u001b[0m\n\u001b[0m                       ^\u001b[0m\n\u001b[0;31mSyntaxError\u001b[0m\u001b[0;31m:\u001b[0m unexpected EOF while parsing\n"
     ]
    }
   ],
   "source": [
    "print(#тут ваш код)"
   ]
  },
  {
   "cell_type": "markdown",
   "metadata": {
    "colab_type": "text",
    "id": "x7SVBSJO9kWY"
   },
   "source": [
    "Если вы все сделали правильно, что для формы у вас выведется кортеж из трех чисел: (X, Y, 3). Предположите, откуда там 3?\n",
    "\n",
    "**Ответ:**"
   ]
  },
  {
   "cell_type": "markdown",
   "metadata": {
    "colab_type": "text",
    "id": "4glUbq3J9kWZ"
   },
   "source": [
    "С помощью функции ниже можно вывести изображение и посмотреть, что находится внутри:"
   ]
  },
  {
   "cell_type": "code",
   "execution_count": 0,
   "metadata": {
    "colab": {},
    "colab_type": "code",
    "collapsed": true,
    "id": "wW3QcdHH9kWZ"
   },
   "outputs": [],
   "source": [
    "plt.imshow(pic)"
   ]
  },
  {
   "cell_type": "markdown",
   "metadata": {
    "colab_type": "text",
    "id": "JZbV8aaV9kWb"
   },
   "source": [
    "Убедитесь, что внутри массива `pic` действительно лежат числа. Выведите первые 10 записей.\n",
    "Массив состоит из троек чисел, которые характеризуют глубину цвета для каждого пикселя. Из пикселей складывается картинка."
   ]
  },
  {
   "cell_type": "code",
   "execution_count": 0,
   "metadata": {
    "colab": {},
    "colab_type": "code",
    "collapsed": true,
    "id": "vnO9Nu3p9kWb"
   },
   "outputs": [],
   "source": [
    "print(#тут ваш код)"
   ]
  },
  {
   "cell_type": "markdown",
   "metadata": {
    "colab_type": "text",
    "id": "OzS_dpQ59kWc"
   },
   "source": [
    "Выведите значение максимального элемента в матрице. Выведите значение минимального. Выведите среднее по всем элементам матрице. В каких пределах лежат значения глубины цветов?"
   ]
  },
  {
   "cell_type": "code",
   "execution_count": 0,
   "metadata": {
    "colab": {},
    "colab_type": "code",
    "collapsed": true,
    "id": "8nLbvb7G9kWd"
   },
   "outputs": [],
   "source": [
    "print(#тут ваш код)"
   ]
  },
  {
   "cell_type": "markdown",
   "metadata": {
    "colab_type": "text",
    "id": "7s08AjBO9kWf"
   },
   "source": [
    "## Задание 2"
   ]
  },
  {
   "cell_type": "markdown",
   "metadata": {
    "colab_type": "text",
    "id": "pqnS54SN9kWf"
   },
   "source": [
    "Теперь загрузим черно-белое изображение енота, чтобы наш массив был не 3-х мерным тензором, а двумерным массивом. Тензоры обрабатываются точно также, но для простоты пока что давайте работать с двумерными массивами, т.е. матрицами."
   ]
  },
  {
   "cell_type": "code",
   "execution_count": 0,
   "metadata": {
    "colab": {},
    "colab_type": "code",
    "collapsed": true,
    "id": "B4WAhqU39kWf"
   },
   "outputs": [],
   "source": [
    "pic = misc.face(gray=True)"
   ]
  },
  {
   "cell_type": "code",
   "execution_count": 0,
   "metadata": {
    "colab": {},
    "colab_type": "code",
    "collapsed": true,
    "id": "AWuyI0k69kWh"
   },
   "outputs": [],
   "source": [
    "plt.imshow(#тут ваш код)"
   ]
  },
  {
   "cell_type": "markdown",
   "metadata": {
    "colab_type": "text",
    "id": "5wGZtJnX9kWk"
   },
   "source": [
    "Выведите форму (shape) полученной картинки `pic`. Какие выводы можно сделать? Положите в `h`,`w` высоту и ширину картинки."
   ]
  },
  {
   "cell_type": "code",
   "execution_count": 0,
   "metadata": {
    "colab": {},
    "colab_type": "code",
    "collapsed": true,
    "id": "3vVanBzU9kWk"
   },
   "outputs": [],
   "source": [
    "print(#тут ваш код)\n",
    "h,w=#тут ваш код"
   ]
  },
  {
   "cell_type": "markdown",
   "metadata": {
    "colab_type": "text",
    "id": "xelx9Hxc9kWl"
   },
   "source": [
    "Используя библиотеку `numpy`, отразите изображение по горизонтали. Выведите картинку.\n",
    "\n",
    "Подсказка: не забывайте, что изображения -- это просто двумерные массивы"
   ]
  },
  {
   "cell_type": "code",
   "execution_count": 0,
   "metadata": {
    "colab": {},
    "colab_type": "code",
    "collapsed": true,
    "id": "PuBAIYwW9kWn"
   },
   "outputs": [],
   "source": [
    "#тут ваш код"
   ]
  },
  {
   "cell_type": "markdown",
   "metadata": {
    "colab_type": "text",
    "id": "XExgeFAR9kWp"
   },
   "source": [
    "Теперь давайте повысим контрастность -- для этого к каждому пикселю прибавим 50 единиц"
   ]
  },
  {
   "cell_type": "code",
   "execution_count": 0,
   "metadata": {
    "colab": {},
    "colab_type": "code",
    "collapsed": true,
    "id": "HqPiifvL9kWp"
   },
   "outputs": [],
   "source": [
    "#тут ваш код"
   ]
  },
  {
   "cell_type": "code",
   "execution_count": 0,
   "metadata": {
    "colab": {},
    "colab_type": "code",
    "collapsed": true,
    "id": "8mjGfjTK9kWs"
   },
   "outputs": [],
   "source": [
    "plt.imshow(pic)"
   ]
  },
  {
   "cell_type": "markdown",
   "metadata": {
    "colab_type": "text",
    "id": "FPWOUsQH9kWu"
   },
   "source": [
    "Теперь давайте попробуем превратить наше одноканальное изображение в трехканальный (RGB) тензор. Для этого вместо каждого пикселя в одноканальном изображении (в двумерном массиве) поставим кортеж из трех элементов -- глубины красного, зеленого и голубого соотвественно. Восстановить по ч/б картинке цветной мы не можем, так как мы не можем взять утерянную информацию из ниоткуда, но можем усилить черные и белые участки. Для этого давайте заполним все три канала одинаковыми значениями, деленными на что-то очень большое. Например $--$ на $200$.  То есть, например, если в пикселе `pic[i][j]` лежало значение **200**, то для нового изображения `new_pic` мы заполняем `new_pic[i][j]` кортежем из трех чисел `int(pic[i][j]/3)`. Функция `int` $--$ округление до целой части."
   ]
  },
  {
   "cell_type": "code",
   "execution_count": 0,
   "metadata": {
    "colab": {},
    "colab_type": "code",
    "collapsed": true,
    "id": "hEK9jRSf9kWv"
   },
   "outputs": [],
   "source": [
    "new_pic = np.zeros((h,w,3)) #создадим пустую матрицу, куда будем записывать значения\n",
    "for i in range(h):\n",
    "    for j in range(w):\n",
    "     #тут ваш код"
   ]
  },
  {
   "cell_type": "code",
   "execution_count": 0,
   "metadata": {
    "colab": {},
    "colab_type": "code",
    "collapsed": true,
    "id": "_RUpiNo69kWx"
   },
   "outputs": [],
   "source": [
    "plt.imshow(#тут ваш код)"
   ]
  },
  {
   "cell_type": "markdown",
   "metadata": {
    "colab_type": "text",
    "id": "OVO189tU9kWz"
   },
   "source": [
    "## Задание 3"
   ]
  },
  {
   "cell_type": "markdown",
   "metadata": {
    "colab_type": "text",
    "id": "kacDftwY9kW0"
   },
   "source": [
    "Теперь давайте уменьшим качество картинки в 16 раз, путем уменьшения качества изображения, т.е. теперь 16 пикселей по близости надо заполнить одним значением."
   ]
  },
  {
   "cell_type": "code",
   "execution_count": 0,
   "metadata": {
    "colab": {},
    "colab_type": "code",
    "collapsed": true,
    "id": "s21pa_tJ9kW0"
   },
   "outputs": [],
   "source": [
    "from sklearn.datasets import load_sample_image #импорт загрузчика изображения"
   ]
  },
  {
   "cell_type": "code",
   "execution_count": 0,
   "metadata": {
    "colab": {},
    "colab_type": "code",
    "collapsed": true,
    "id": "yTt_fdLC9kW2"
   },
   "outputs": [],
   "source": [
    "china = load_sample_image('china.jpg')\n",
    "plt.imshow(china)"
   ]
  },
  {
   "cell_type": "markdown",
   "metadata": {
    "colab_type": "text",
    "id": "CV3st_wn9kW4"
   },
   "source": [
    "Запишите в переменные `h`, `w`, `c` высоту, ширину, количество каналов соответственно для картинки `china`."
   ]
  },
  {
   "cell_type": "code",
   "execution_count": 0,
   "metadata": {
    "colab": {},
    "colab_type": "code",
    "collapsed": true,
    "id": "nJHwDMmv9kW4"
   },
   "outputs": [],
   "source": [
    "h, w, c = #тут ваш код"
   ]
  },
  {
   "cell_type": "markdown",
   "metadata": {
    "colab_type": "text",
    "id": "xu3xAGDu9kW5"
   },
   "source": [
    "Теперь давайте непосредственно перейдем к изменению картинки $--$ мы предлагаем разбивать картинки на квадраты 4 на 4 и заполнять все 16 значений внутри квадрата левым верхним значением. Вы можете сделать иначе."
   ]
  },
  {
   "cell_type": "code",
   "execution_count": 0,
   "metadata": {
    "colab": {},
    "colab_type": "code",
    "collapsed": true,
    "id": "GisNhXFK9kW6"
   },
   "outputs": [],
   "source": [
    "from copy import copy\n",
    "compressed_pic = copy(china)\n",
    "#тут ваш код     "
   ]
  },
  {
   "cell_type": "markdown",
   "metadata": {
    "colab_type": "text",
    "id": "0Kzb067Y9kW8"
   },
   "source": [
    "Напишите функцию, которая считает несоотвествие между исходной и сжатой картинкой. Запустите ваш код для `compressed_pic`, `china`"
   ]
  },
  {
   "cell_type": "code",
   "execution_count": 0,
   "metadata": {
    "colab": {},
    "colab_type": "code",
    "collapsed": true,
    "id": "39qh8JuZ9kW9"
   },
   "outputs": [],
   "source": [
    "def calculate_mismatch(a,b):\n",
    "    mismatch=0\n",
    "    #тут ваш код\n",
    "    print(mismatch)"
   ]
  },
  {
   "cell_type": "code",
   "execution_count": 0,
   "metadata": {
    "colab": {},
    "colab_type": "code",
    "collapsed": true,
    "id": "kVYOFPMP9kW_"
   },
   "outputs": [],
   "source": [
    "calculate_mismatch(#тут ваш код)"
   ]
  },
  {
   "cell_type": "markdown",
   "metadata": {
    "colab_type": "text",
    "id": "SxQTJIGs9kXF"
   },
   "source": [
    "Посчитайте синус от каждого значения пикселей изображения `china` по всем каналам. Выведите картинку. Используйте функцию `np.sin` "
   ]
  },
  {
   "cell_type": "code",
   "execution_count": 0,
   "metadata": {
    "colab": {},
    "colab_type": "code",
    "collapsed": true,
    "id": "UsXNJxLm9kXF"
   },
   "outputs": [],
   "source": [
    "#тут ваш код"
   ]
  },
  {
   "cell_type": "code",
   "execution_count": 0,
   "metadata": {
    "colab": {},
    "colab_type": "code",
    "collapsed": true,
    "id": "v8K8YZ3-9kXH"
   },
   "outputs": [],
   "source": [
    "plt.imshow(#тут ваш код) "
   ]
  },
  {
   "cell_type": "markdown",
   "metadata": {
    "colab_type": "text",
    "id": "0oH0MRQL9kXJ"
   },
   "source": [
    "Посмотрите на полученный результат. Как вы думаете, что можно делать с помощью такого преобразования? Какого рода объекты можно распознать?"
   ]
  },
  {
   "cell_type": "markdown",
   "metadata": {
    "colab_type": "text",
    "id": "KNJq_gfL9kXN"
   },
   "source": [
    "### Задание 4*\n",
    "это задание является дополнительным"
   ]
  },
  {
   "cell_type": "markdown",
   "metadata": {
    "colab_type": "text",
    "id": "4ht209199kXO"
   },
   "source": [
    "Теперь давайте поработаем с аудиофайлами. Стандартный аудиофайл представляет собой обычный набор чисел, в котором хранятся значения частот, снятых с определенной периодичностью. Итак, самая простая аудиодорожка $-$ одномерный массив.\n",
    "\n",
    "Первое, что нужно сделать $--$ установить библиотеку для работы с аудио. Она называется `librosa`. Гайд по установке: https://librosa.github.io/librosa/install.html\n"
   ]
  },
  {
   "cell_type": "code",
   "execution_count": 0,
   "metadata": {
    "colab": {},
    "colab_type": "code",
    "collapsed": true,
    "id": "nwg7Hn349kXP"
   },
   "outputs": [],
   "source": [
    "import librosa #импортируем библиотеку\n",
    "import IPython.display"
   ]
  },
  {
   "cell_type": "code",
   "execution_count": 0,
   "metadata": {
    "colab": {},
    "colab_type": "code",
    "collapsed": true,
    "id": "kbvx2c_L9kXQ"
   },
   "outputs": [],
   "source": [
    "audio, sr= librosa.load('Test.wav')  \n",
    "# записываем наш массив звуковых частот в файл аудио, sr -- число точек, записываемых в секунду. \n",
    "# чтобы файл открылся, он должен лежать в той же папке, что и файл HW_2.ipynb"
   ]
  },
  {
   "cell_type": "markdown",
   "metadata": {
    "colab_type": "text",
    "id": "w9Tipzz99kXS"
   },
   "source": [
    "Нашу дорожку можно воспроизвести в самом файле `.ipynb`:"
   ]
  },
  {
   "cell_type": "code",
   "execution_count": 0,
   "metadata": {
    "colab": {},
    "colab_type": "code",
    "collapsed": true,
    "id": "T2Rr5zTX9kXT"
   },
   "outputs": [],
   "source": [
    "IPython.display.Audio(audio, rate=sr)"
   ]
  },
  {
   "cell_type": "markdown",
   "metadata": {
    "colab_type": "text",
    "id": "QPRjmIoZ9kXW"
   },
   "source": [
    "Выведите тип данных переменной `audio`, найдите ее длительность и среднее."
   ]
  },
  {
   "cell_type": "code",
   "execution_count": 0,
   "metadata": {
    "colab": {},
    "colab_type": "code",
    "collapsed": true,
    "id": "ECc4dGk49kXW"
   },
   "outputs": [],
   "source": [
    "print(#тут ваш код)"
   ]
  },
  {
   "cell_type": "markdown",
   "metadata": {
    "colab_type": "text",
    "id": "574hvLOr9kXX"
   },
   "source": [
    "    Давайте посмотрим, как выглядит наша дорожка. Для этого используем библиотеку `matplotlib.pyplot`"
   ]
  },
  {
   "cell_type": "code",
   "execution_count": 0,
   "metadata": {
    "colab": {},
    "colab_type": "code",
    "collapsed": true,
    "id": "uW5eBW5Q9kXY"
   },
   "outputs": [],
   "source": [
    "plt.figure(figsize=(25,5))\n",
    "plt.title('Test.wav')\n",
    "plt.plot(audio)"
   ]
  },
  {
   "cell_type": "markdown",
   "metadata": {
    "colab_type": "text",
    "id": "uMboMRu89kXZ"
   },
   "source": [
    "Обрежьте последние 4 секунды файла"
   ]
  },
  {
   "cell_type": "code",
   "execution_count": 0,
   "metadata": {
    "colab": {},
    "colab_type": "code",
    "collapsed": true,
    "id": "4CcwvAnb9kXb"
   },
   "outputs": [],
   "source": [
    "audio = #тут ваш код"
   ]
  },
  {
   "cell_type": "markdown",
   "metadata": {
    "colab_type": "text",
    "id": "NQTEVqad9kXd"
   },
   "source": [
    "Давайте уменьшим амплитуду на 25%. Что при этом изменится? Напоминаю, что вы всегда можете послушать изменения при помощи `IPython.display.Audio`"
   ]
  },
  {
   "cell_type": "code",
   "execution_count": 0,
   "metadata": {
    "colab": {},
    "colab_type": "code",
    "collapsed": true,
    "id": "aYkN5Tbe9kXd"
   },
   "outputs": [],
   "source": [
    "audio = #тут ваш код"
   ]
  },
  {
   "cell_type": "markdown",
   "metadata": {
    "colab_type": "text",
    "id": "0mEQkKbc9kXf"
   },
   "source": [
    "А еще аудиодорожку можно ускорить. Для этого попробуйте потюнить параметр `rate`"
   ]
  },
  {
   "cell_type": "code",
   "execution_count": 0,
   "metadata": {
    "colab": {},
    "colab_type": "code",
    "collapsed": true,
    "id": "kCIh5VqX9kXg"
   },
   "outputs": [],
   "source": [
    "IPython.display.Audio(audio, rate=sr)"
   ]
  }
 ],
 "metadata": {
  "colab": {
   "collapsed_sections": [],
   "name": "[homework]numpy.ipynb",
   "provenance": [],
   "version": "0.3.2"
  },
  "kernelspec": {
   "display_name": "Python 3",
   "language": "python",
   "name": "python3"
  },
  "language_info": {
   "codemirror_mode": {
    "name": "ipython",
    "version": 3
   },
   "file_extension": ".py",
   "mimetype": "text/x-python",
   "name": "python",
   "nbconvert_exporter": "python",
   "pygments_lexer": "ipython3",
   "version": "3.6.1"
  }
 },
 "nbformat": 4,
 "nbformat_minor": 1
}
